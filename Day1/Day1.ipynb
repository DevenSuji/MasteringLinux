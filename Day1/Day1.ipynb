{
 "cells": [
  {
   "cell_type": "markdown",
   "metadata": {},
   "source": [
    "# Day 1  \n",
    "  \n",
    "What is Linux?\n",
    "  \n",
    "Linux is an operating system.  \n",
    "  \n",
    "How to check the version of Linux?  \n",
    "  \n",
    "cat /etc/redhat-release"
   ]
  }
 ],
 "metadata": {
  "language_info": {
   "name": "python"
  },
  "orig_nbformat": 4
 },
 "nbformat": 4,
 "nbformat_minor": 2
}
